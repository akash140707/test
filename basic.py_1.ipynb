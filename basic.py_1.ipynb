{
 "cells": [
  {
   "cell_type": "raw",
   "id": "9db06572-13f9-4dbc-833e-e768f069f071",
   "metadata": {},
   "source": [
    "1. In the below elements which of them are values or an expression? eg:- values can be\n",
    "integer or string and expressions will be mathematical operators.\n",
    "*\n",
    "&#39;hello&#39;\n",
    "-87.8\n",
    "-\n",
    "/\n",
    "+\n",
    "6"
   ]
  },
  {
   "cell_type": "raw",
   "id": "63d7cda4-28a7-4761-8965-99e6fe94e2dc",
   "metadata": {},
   "source": [
    "* = multiplycation\n",
    "'hello' = string\n",
    "-87.8 = float number\n",
    "- = subtraction\n",
    "/ = division\n",
    "+ = addition\n",
    "6 = integer\n"
   ]
  },
  {
   "cell_type": "raw",
   "id": "5cbc4f10-5c17-48f9-b3a2-3648365bd95c",
   "metadata": {},
   "source": [
    "2. What is the difference between string and variable?\n",
    "\n",
    "\n",
    "ans- variable is a container to cantain many type of data. string is a data to use them to fill up variables."
   ]
  },
  {
   "cell_type": "raw",
   "id": "57bbfd87-13cb-4b53-adfa-e4437baac32f",
   "metadata": {},
   "source": [
    "3 - Describe three different data types.\n",
    "\n",
    "Ans - we use int data type to use integer numbers as 1,2,3,4,534,\n",
    "we use float data type to use floating numbers as 2.3,45.3\n",
    "we use str data type to use string as \"akash\",\"ineuron\""
   ]
  },
  {
   "cell_type": "raw",
   "id": "16b66402-2d4d-45e5-b2c9-b34001a1b479",
   "metadata": {},
   "source": [
    "4. What is an expression made up of? What do all expressions do?\n",
    "Ans - expration is combitation of operators and operands .all expression does evalivation of them."
   ]
  },
  {
   "cell_type": "raw",
   "id": "d69efb52-e712-407c-b4bf-229197871e21",
   "metadata": {},
   "source": [
    "5. This assignment statements, like spam = 10. What is the difference between an\n",
    "expression and a statement?\n",
    "\n",
    "Ans - expression is a evaluation of data. statement is a line of code which does somthing not evaluate"
   ]
  },
  {
   "cell_type": "raw",
   "id": "79086f81-d72c-4cf6-9928-2e67753cdf52",
   "metadata": {},
   "source": [
    "6. After running the following code, what does the variable bacon contain?\n",
    "bacon = 22\n",
    "bacon + 1\n",
    "\n",
    "Ans - after running this code bacon cantain 22"
   ]
  },
  {
   "cell_type": "raw",
   "id": "e93209a6-d2c6-4c60-a854-98b8d9087fc4",
   "metadata": {},
   "source": [
    "7. What should the values of the following two terms be?\n",
    "   'spam'+'spamspam'\n",
    "    'spam'*3\n",
    "    \n",
    "Ans - 'spam'+'spamspam'=spamspamspam\n",
    "      'spam'*3= 'spamspamspam'"
   ]
  },
  {
   "cell_type": "raw",
   "id": "117a9c64-0f45-468c-bf12-d3b4ca5052f7",
   "metadata": {},
   "source": [
    "8. Why is eggs a valid variable name while 100 is invalid?\n",
    "\n",
    "Ans - eggs is valid because string is valid for variable name but 100 is not valid because variable name should not start integer"
   ]
  },
  {
   "cell_type": "raw",
   "id": "23a2a01d-dd55-4ec4-8bb0-962b764035d8",
   "metadata": {},
   "source": [
    "9. What three functions can be used to get the integer, floating-point number, or string\n",
    "version of a value?\n",
    "\n",
    "Ans - for integer  =  int()\n",
    "      for floating point number  = float()\n",
    "      for string =  str()"
   ]
  },
  {
   "cell_type": "code",
   "execution_count": null,
   "id": "a6ffc57a-2342-4d71-809d-112b13e2adef",
   "metadata": {},
   "outputs": [],
   "source": [
    "10. Why does this expression cause an error? How can you fix it?\n",
    "'i have eaten '+ 99 + 'burritos.'"
   ]
  },
  {
   "cell_type": "raw",
   "id": "2d7740bd-e237-4b76-af8e-8848b4a8bb82",
   "metadata": {},
   "source": [
    "this is show type error becose of comma.\n",
    "\"i have eaten '+ 99 + 'burritos.\""
   ]
  },
  {
   "cell_type": "code",
   "execution_count": null,
   "id": "79a56aa9-67f7-4052-90f9-0d83de0a43e3",
   "metadata": {},
   "outputs": [],
   "source": []
  }
 ],
 "metadata": {
  "kernelspec": {
   "display_name": "Python 3 (ipykernel)",
   "language": "python",
   "name": "python3"
  },
  "language_info": {
   "codemirror_mode": {
    "name": "ipython",
    "version": 3
   },
   "file_extension": ".py",
   "mimetype": "text/x-python",
   "name": "python",
   "nbconvert_exporter": "python",
   "pygments_lexer": "ipython3",
   "version": "3.10.6"
  }
 },
 "nbformat": 4,
 "nbformat_minor": 5
}
